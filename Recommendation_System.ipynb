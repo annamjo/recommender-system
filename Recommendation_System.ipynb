{
  "nbformat": 4,
  "nbformat_minor": 0,
  "metadata": {
    "colab": {
      "name": "Recommendation System",
      "provenance": [],
      "collapsed_sections": [],
      "toc_visible": true
    },
    "kernelspec": {
      "name": "python3",
      "display_name": "Python 3"
    }
  },
  "cells": [
    {
      "cell_type": "markdown",
      "metadata": {
        "id": "wLEur0fKm1Bw"
      },
      "source": [
        "# **Personal Project**\n",
        "\n",
        "\n",
        "\n",
        "---\n",
        "\n",
        "*   Examine and select an open dataset from Kaggle\n",
        "*   Read dataset in using Pandas and google sheets\n",
        "* Look up and change data types\n",
        "* Investigate patterns in the data\n",
        "* Create features (feature engineering)\n",
        "* Test different machine learning algorithms\n",
        "* Evaluate how well the algorithms work \n",
        "\n",
        "---\n",
        "\n",
        "# **Visualizing Data**\n",
        "\n",
        "---\n",
        "\n"
      ]
    },
    {
      "cell_type": "code",
      "metadata": {
        "id": "F4ezbSB1-Jqf",
        "colab": {
          "base_uri": "https://localhost:8080/",
          "height": 363
        },
        "outputId": "2ea2f95d-7c11-4e87-fe45-5074e697b6c7"
      },
      "source": [
        "# Connecting your google drive with colab so you can access data from spreadsheets\n",
        "# You will need to run this code and enter a key to authenticate every day/session\n",
        "from google.colab import auth\n",
        "auth.authenticate_user()\n",
        "import gspread\n",
        "from oauth2client.client import GoogleCredentials\n",
        "gc = gspread.authorize(GoogleCredentials.get_application_default())"
      ],
      "execution_count": null,
      "outputs": [
        {
          "output_type": "error",
          "ename": "ApplicationDefaultCredentialsError",
          "evalue": "ignored",
          "traceback": [
            "\u001b[0;31m---------------------------------------------------------------------------\u001b[0m",
            "\u001b[0;31mApplicationDefaultCredentialsError\u001b[0m        Traceback (most recent call last)",
            "\u001b[0;32m<ipython-input-10-f53a1dce1699>\u001b[0m in \u001b[0;36m<module>\u001b[0;34m()\u001b[0m\n\u001b[1;32m      5\u001b[0m \u001b[0;32mimport\u001b[0m \u001b[0mgspread\u001b[0m\u001b[0;34m\u001b[0m\u001b[0;34m\u001b[0m\u001b[0m\n\u001b[1;32m      6\u001b[0m \u001b[0;32mfrom\u001b[0m \u001b[0moauth2client\u001b[0m\u001b[0;34m.\u001b[0m\u001b[0mclient\u001b[0m \u001b[0;32mimport\u001b[0m \u001b[0mGoogleCredentials\u001b[0m\u001b[0;34m\u001b[0m\u001b[0;34m\u001b[0m\u001b[0m\n\u001b[0;32m----> 7\u001b[0;31m \u001b[0mgc\u001b[0m \u001b[0;34m=\u001b[0m \u001b[0mgspread\u001b[0m\u001b[0;34m.\u001b[0m\u001b[0mauthorize\u001b[0m\u001b[0;34m(\u001b[0m\u001b[0mGoogleCredentials\u001b[0m\u001b[0;34m.\u001b[0m\u001b[0mget_application_default\u001b[0m\u001b[0;34m(\u001b[0m\u001b[0;34m)\u001b[0m\u001b[0;34m)\u001b[0m\u001b[0;34m\u001b[0m\u001b[0;34m\u001b[0m\u001b[0m\n\u001b[0m",
            "\u001b[0;32m/usr/local/lib/python3.7/dist-packages/oauth2client/client.py\u001b[0m in \u001b[0;36mget_application_default\u001b[0;34m()\u001b[0m\n\u001b[1;32m   1269\u001b[0m                                                 \u001b[0mfail\u001b[0m \u001b[0mto\u001b[0m \u001b[0mbe\u001b[0m \u001b[0mretrieved\u001b[0m\u001b[0;34m.\u001b[0m\u001b[0;34m\u001b[0m\u001b[0;34m\u001b[0m\u001b[0m\n\u001b[1;32m   1270\u001b[0m         \"\"\"\n\u001b[0;32m-> 1271\u001b[0;31m         \u001b[0;32mreturn\u001b[0m \u001b[0mGoogleCredentials\u001b[0m\u001b[0;34m.\u001b[0m\u001b[0m_get_implicit_credentials\u001b[0m\u001b[0;34m(\u001b[0m\u001b[0;34m)\u001b[0m\u001b[0;34m\u001b[0m\u001b[0;34m\u001b[0m\u001b[0m\n\u001b[0m\u001b[1;32m   1272\u001b[0m \u001b[0;34m\u001b[0m\u001b[0m\n\u001b[1;32m   1273\u001b[0m     \u001b[0;34m@\u001b[0m\u001b[0mstaticmethod\u001b[0m\u001b[0;34m\u001b[0m\u001b[0;34m\u001b[0m\u001b[0m\n",
            "\u001b[0;32m/usr/local/lib/python3.7/dist-packages/oauth2client/client.py\u001b[0m in \u001b[0;36m_get_implicit_credentials\u001b[0;34m(cls)\u001b[0m\n\u001b[1;32m   1254\u001b[0m \u001b[0;34m\u001b[0m\u001b[0m\n\u001b[1;32m   1255\u001b[0m         \u001b[0;32mfor\u001b[0m \u001b[0mchecker\u001b[0m \u001b[0;32min\u001b[0m \u001b[0menviron_checkers\u001b[0m\u001b[0;34m:\u001b[0m\u001b[0;34m\u001b[0m\u001b[0;34m\u001b[0m\u001b[0m\n\u001b[0;32m-> 1256\u001b[0;31m             \u001b[0mcredentials\u001b[0m \u001b[0;34m=\u001b[0m \u001b[0mchecker\u001b[0m\u001b[0;34m(\u001b[0m\u001b[0;34m)\u001b[0m\u001b[0;34m\u001b[0m\u001b[0;34m\u001b[0m\u001b[0m\n\u001b[0m\u001b[1;32m   1257\u001b[0m             \u001b[0;32mif\u001b[0m \u001b[0mcredentials\u001b[0m \u001b[0;32mis\u001b[0m \u001b[0;32mnot\u001b[0m \u001b[0;32mNone\u001b[0m\u001b[0;34m:\u001b[0m\u001b[0;34m\u001b[0m\u001b[0;34m\u001b[0m\u001b[0m\n\u001b[1;32m   1258\u001b[0m                 \u001b[0;32mreturn\u001b[0m \u001b[0mcredentials\u001b[0m\u001b[0;34m\u001b[0m\u001b[0;34m\u001b[0m\u001b[0m\n",
            "\u001b[0;32m/usr/local/lib/python3.7/dist-packages/oauth2client/client.py\u001b[0m in \u001b[0;36m_implicit_credentials_from_files\u001b[0;34m()\u001b[0m\n\u001b[1;32m   1205\u001b[0m             \u001b[0menvironment\u001b[0m\u001b[0;34m.\u001b[0m\u001b[0;34m\u001b[0m\u001b[0;34m\u001b[0m\u001b[0m\n\u001b[1;32m   1206\u001b[0m         \"\"\"\n\u001b[0;32m-> 1207\u001b[0;31m         \u001b[0mcredentials_filename\u001b[0m \u001b[0;34m=\u001b[0m \u001b[0m_get_environment_variable_file\u001b[0m\u001b[0;34m(\u001b[0m\u001b[0;34m)\u001b[0m\u001b[0;34m\u001b[0m\u001b[0;34m\u001b[0m\u001b[0m\n\u001b[0m\u001b[1;32m   1208\u001b[0m         \u001b[0;32mif\u001b[0m \u001b[0;32mnot\u001b[0m \u001b[0mcredentials_filename\u001b[0m\u001b[0;34m:\u001b[0m\u001b[0;34m\u001b[0m\u001b[0;34m\u001b[0m\u001b[0m\n\u001b[1;32m   1209\u001b[0m             \u001b[0mcredentials_filename\u001b[0m \u001b[0;34m=\u001b[0m \u001b[0m_get_well_known_file\u001b[0m\u001b[0;34m(\u001b[0m\u001b[0;34m)\u001b[0m\u001b[0;34m\u001b[0m\u001b[0;34m\u001b[0m\u001b[0m\n",
            "\u001b[0;32m/usr/local/lib/python3.7/dist-packages/oauth2client/client.py\u001b[0m in \u001b[0;36m_get_environment_variable_file\u001b[0;34m()\u001b[0m\n\u001b[1;32m   1353\u001b[0m                 \u001b[0;34m' (pointed by '\u001b[0m \u001b[0;34m+\u001b[0m\u001b[0;34m\u001b[0m\u001b[0;34m\u001b[0m\u001b[0m\n\u001b[1;32m   1354\u001b[0m                 \u001b[0mGOOGLE_APPLICATION_CREDENTIALS\u001b[0m \u001b[0;34m+\u001b[0m\u001b[0;34m\u001b[0m\u001b[0;34m\u001b[0m\u001b[0m\n\u001b[0;32m-> 1355\u001b[0;31m                 ' environment variable) does not exist!')\n\u001b[0m\u001b[1;32m   1356\u001b[0m \u001b[0;34m\u001b[0m\u001b[0m\n\u001b[1;32m   1357\u001b[0m \u001b[0;34m\u001b[0m\u001b[0m\n",
            "\u001b[0;31mApplicationDefaultCredentialsError\u001b[0m: File /content/adc.json (pointed by GOOGLE_APPLICATION_CREDENTIALS environment variable) does not exist!"
          ]
        }
      ]
    },
    {
      "cell_type": "code",
      "metadata": {
        "id": "woWdcZMz-nU7"
      },
      "source": [
        "# Import the python packages we want to use\n",
        "# Pandas helps us explore and manipulate the data\n",
        "# Matplotlib helps us to graph and plot the data\n",
        "import pandas as pd\n",
        "import matplotlib.pyplot as plt"
      ],
      "execution_count": null,
      "outputs": []
    },
    {
      "cell_type": "markdown",
      "metadata": {
        "id": "IbQNsgcrpJsT"
      },
      "source": [
        "\n",
        "---\n",
        "\n",
        "dataset:\n",
        "\n",
        "*   World Happiness Report 2019: https://www.kaggle.com/unsdsn/world-happiness\n"
      ]
    },
    {
      "cell_type": "code",
      "metadata": {
        "id": "viuwnJXq-O33",
        "colab": {
          "base_uri": "https://localhost:8080/",
          "height": 201
        },
        "outputId": "9ac810db-516b-44df-cf53-ea91fde3b725"
      },
      "source": [
        "# World Happiness Report 2019 data\n",
        "wb = gc.open_by_url('https://docs.google.com/spreadsheets/d/1bwIXIzmE77O1Gsmp3_H3vveAExYyZ17mkGagq-4PNtY/edit#gid=906238556')"
      ],
      "execution_count": null,
      "outputs": [
        {
          "output_type": "error",
          "ename": "NameError",
          "evalue": "ignored",
          "traceback": [
            "\u001b[0;31m---------------------------------------------------------------------------\u001b[0m",
            "\u001b[0;31mNameError\u001b[0m                                 Traceback (most recent call last)",
            "\u001b[0;32m<ipython-input-9-ccdac567efee>\u001b[0m in \u001b[0;36m<module>\u001b[0;34m()\u001b[0m\n\u001b[1;32m      1\u001b[0m \u001b[0;31m# World Happiness Report 2019 data\u001b[0m\u001b[0;34m\u001b[0m\u001b[0;34m\u001b[0m\u001b[0;34m\u001b[0m\u001b[0m\n\u001b[0;32m----> 2\u001b[0;31m \u001b[0mwb\u001b[0m \u001b[0;34m=\u001b[0m \u001b[0mgc\u001b[0m\u001b[0;34m.\u001b[0m\u001b[0mopen_by_url\u001b[0m\u001b[0;34m(\u001b[0m\u001b[0;34m'https://docs.google.com/spreadsheets/d/1bwIXIzmE77O1Gsmp3_H3vveAExYyZ17mkGagq-4PNtY/edit#gid=906238556'\u001b[0m\u001b[0;34m)\u001b[0m\u001b[0;34m\u001b[0m\u001b[0;34m\u001b[0m\u001b[0m\n\u001b[0m",
            "\u001b[0;31mNameError\u001b[0m: name 'gc' is not defined"
          ]
        }
      ]
    },
    {
      "cell_type": "code",
      "metadata": {
        "id": "zVNkqnas-xru",
        "colab": {
          "base_uri": "https://localhost:8080/",
          "height": 219
        },
        "outputId": "1c9e6821-0c7c-4519-e7f7-f533c8deb13d"
      },
      "source": [
        "# Import your data into a Pandas data frame\n",
        "# You may have to change the name of the sheet to match the sheet you are pulling from your spreadsheet - pay attention to capitalization!\n",
        "sheet = wb.worksheet('data') #change this sheet name for a new dataset\n",
        "data = sheet.get_all_values()\n",
        "\n",
        "# Pandas stores data in a 'data frame'\n",
        "df = pd.DataFrame(data)\n",
        "\n",
        "# Set the headings\n",
        "df.columns = df.iloc[0]\n",
        "df = df.iloc[1:]\n",
        "\n",
        "# Print the first few lines of the data frame to check that everything looks good\n",
        "df.head()"
      ],
      "execution_count": null,
      "outputs": [
        {
          "output_type": "execute_result",
          "data": {
            "text/html": [
              "<div>\n",
              "<style scoped>\n",
              "    .dataframe tbody tr th:only-of-type {\n",
              "        vertical-align: middle;\n",
              "    }\n",
              "\n",
              "    .dataframe tbody tr th {\n",
              "        vertical-align: top;\n",
              "    }\n",
              "\n",
              "    .dataframe thead th {\n",
              "        text-align: right;\n",
              "    }\n",
              "</style>\n",
              "<table border=\"1\" class=\"dataframe\">\n",
              "  <thead>\n",
              "    <tr style=\"text-align: right;\">\n",
              "      <th></th>\n",
              "      <th>Overall rank</th>\n",
              "      <th>Country or region</th>\n",
              "      <th>Score</th>\n",
              "      <th>GDP per capita</th>\n",
              "      <th>Social support</th>\n",
              "      <th>Healthy life expectancy</th>\n",
              "      <th>Freedom to make life choices</th>\n",
              "      <th>Generosity</th>\n",
              "      <th>Perceptions of corruption</th>\n",
              "    </tr>\n",
              "  </thead>\n",
              "  <tbody>\n",
              "    <tr>\n",
              "      <th>1</th>\n",
              "      <td>1</td>\n",
              "      <td>Finland</td>\n",
              "      <td>7.769</td>\n",
              "      <td>1.34</td>\n",
              "      <td>1.587</td>\n",
              "      <td>0.986</td>\n",
              "      <td>0.596</td>\n",
              "      <td>0.153</td>\n",
              "      <td>0.393</td>\n",
              "    </tr>\n",
              "    <tr>\n",
              "      <th>2</th>\n",
              "      <td>2</td>\n",
              "      <td>Denmark</td>\n",
              "      <td>7.6</td>\n",
              "      <td>1.383</td>\n",
              "      <td>1.573</td>\n",
              "      <td>0.996</td>\n",
              "      <td>0.592</td>\n",
              "      <td>0.252</td>\n",
              "      <td>0.41</td>\n",
              "    </tr>\n",
              "    <tr>\n",
              "      <th>3</th>\n",
              "      <td>3</td>\n",
              "      <td>Norway</td>\n",
              "      <td>7.554</td>\n",
              "      <td>1.488</td>\n",
              "      <td>1.582</td>\n",
              "      <td>1.028</td>\n",
              "      <td>0.603</td>\n",
              "      <td>0.271</td>\n",
              "      <td>0.341</td>\n",
              "    </tr>\n",
              "    <tr>\n",
              "      <th>4</th>\n",
              "      <td>4</td>\n",
              "      <td>Iceland</td>\n",
              "      <td>7.494</td>\n",
              "      <td>1.38</td>\n",
              "      <td>1.624</td>\n",
              "      <td>1.026</td>\n",
              "      <td>0.591</td>\n",
              "      <td>0.354</td>\n",
              "      <td>0.118</td>\n",
              "    </tr>\n",
              "    <tr>\n",
              "      <th>5</th>\n",
              "      <td>5</td>\n",
              "      <td>Netherlands</td>\n",
              "      <td>7.488</td>\n",
              "      <td>1.396</td>\n",
              "      <td>1.522</td>\n",
              "      <td>0.999</td>\n",
              "      <td>0.557</td>\n",
              "      <td>0.322</td>\n",
              "      <td>0.298</td>\n",
              "    </tr>\n",
              "  </tbody>\n",
              "</table>\n",
              "</div>"
            ],
            "text/plain": [
              "0 Overall rank Country or region  ... Generosity Perceptions of corruption\n",
              "1            1           Finland  ...      0.153                     0.393\n",
              "2            2           Denmark  ...      0.252                      0.41\n",
              "3            3            Norway  ...      0.271                     0.341\n",
              "4            4           Iceland  ...      0.354                     0.118\n",
              "5            5       Netherlands  ...      0.322                     0.298\n",
              "\n",
              "[5 rows x 9 columns]"
            ]
          },
          "metadata": {
            "tags": []
          },
          "execution_count": 4
        }
      ]
    },
    {
      "cell_type": "code",
      "metadata": {
        "id": "XaP9n8jZ_CL_",
        "colab": {
          "base_uri": "https://localhost:8080/",
          "height": 208
        },
        "outputId": "abe73b7f-d2bd-4f02-faff-eb501a97a274"
      },
      "source": [
        "# Check the data types in your data frame. Are they all correct? \n",
        "# Usually pandas imports everything as an object, which means you will need to tell is which data type each column should be.\n",
        "# You should do this so you can do math with data that includes numbers, etc.\n",
        "\n",
        "df.dtypes"
      ],
      "execution_count": null,
      "outputs": [
        {
          "output_type": "execute_result",
          "data": {
            "text/plain": [
              "0\n",
              "Overall rank                    object\n",
              "Country or region               object\n",
              "Score                           object\n",
              "GDP per capita                  object\n",
              "Social support                  object\n",
              "Healthy life expectancy         object\n",
              "Freedom to make life choices    object\n",
              "Generosity                      object\n",
              "Perceptions of corruption       object\n",
              "dtype: object"
            ]
          },
          "metadata": {
            "tags": []
          },
          "execution_count": 5
        }
      ]
    },
    {
      "cell_type": "markdown",
      "metadata": {
        "id": "Xf8DEXXkRfwW"
      },
      "source": [
        "\n",
        "\n",
        "---\n",
        "\n",
        "\n",
        "\n",
        "---\n",
        "\n",
        "\n",
        "More information about data types in pandas, and the options for data types: https://pbpython.com/pandas_dtypes.html\n",
        "\n",
        "\n",
        "---\n",
        "\n"
      ]
    },
    {
      "cell_type": "markdown",
      "metadata": {
        "id": "NYnuHgjMSysV"
      },
      "source": [
        "\n",
        "\n",
        "---\n",
        "\n",
        "\n",
        "Manipulate the data before giving it a type. There are multiple ways to convert this data. Things to consider: why you would use this data? Do you only need the Rank? Do you need all the information in the Generosity column?\n",
        "\n",
        "\n",
        "---\n",
        "\n"
      ]
    },
    {
      "cell_type": "markdown",
      "metadata": {
        "id": "cWo0gKoeU3lx"
      },
      "source": [
        "If the dataset has missing data, you'll have to decide what to do with the missing values. Information on what you can do in pandas with missing data: https://www.geeksforgeeks.org/working-with-missing-data-in-pandas/"
      ]
    },
    {
      "cell_type": "code",
      "metadata": {
        "id": "u_pLZPLQ8X2s"
      },
      "source": [
        "# World Happiness 2019 data\n",
        "new_df = {\n",
        "    'Rank': df['Overall rank'].astype(int),\n",
        "    'Country': df['Country or region'].astype(str),\n",
        "    'Score': df['Score'].astype(float),\n",
        "    'GDP': df['GDP per capita'].astype(float),\n",
        "    'SocialSupport': df['Social support'].astype(float),\n",
        "    'Health': df['Healthy life expectancy'].astype(float),\n",
        "    'Freedom': df['Freedom to make life choices'].astype(float),\n",
        "    'Generosity': df['Generosity'].astype(float),\n",
        "    'Corruption': df['Perceptions of corruption'].astype(float)\n",
        "}"
      ],
      "execution_count": null,
      "outputs": []
    },
    {
      "cell_type": "code",
      "metadata": {
        "id": "psztKxDWEIwh",
        "colab": {
          "base_uri": "https://localhost:8080/",
          "height": 202
        },
        "outputId": "8690ab11-1599-4bb0-e468-8580f9cc5644"
      },
      "source": [
        "# Now let's look at the goodreads data again\n",
        "# print(new_df)\n",
        "# print(df)\n",
        "happy_df = pd.DataFrame(new_df)\n",
        "happy_df.head()"
      ],
      "execution_count": null,
      "outputs": [
        {
          "output_type": "execute_result",
          "data": {
            "text/html": [
              "<div>\n",
              "<style scoped>\n",
              "    .dataframe tbody tr th:only-of-type {\n",
              "        vertical-align: middle;\n",
              "    }\n",
              "\n",
              "    .dataframe tbody tr th {\n",
              "        vertical-align: top;\n",
              "    }\n",
              "\n",
              "    .dataframe thead th {\n",
              "        text-align: right;\n",
              "    }\n",
              "</style>\n",
              "<table border=\"1\" class=\"dataframe\">\n",
              "  <thead>\n",
              "    <tr style=\"text-align: right;\">\n",
              "      <th></th>\n",
              "      <th>Rank</th>\n",
              "      <th>Country</th>\n",
              "      <th>Score</th>\n",
              "      <th>GDP</th>\n",
              "      <th>SocialSupport</th>\n",
              "      <th>Health</th>\n",
              "      <th>Freedom</th>\n",
              "      <th>Generosity</th>\n",
              "      <th>Corruption</th>\n",
              "    </tr>\n",
              "  </thead>\n",
              "  <tbody>\n",
              "    <tr>\n",
              "      <th>1</th>\n",
              "      <td>1</td>\n",
              "      <td>Finland</td>\n",
              "      <td>7.769</td>\n",
              "      <td>1.340</td>\n",
              "      <td>1.587</td>\n",
              "      <td>0.986</td>\n",
              "      <td>0.596</td>\n",
              "      <td>0.153</td>\n",
              "      <td>0.393</td>\n",
              "    </tr>\n",
              "    <tr>\n",
              "      <th>2</th>\n",
              "      <td>2</td>\n",
              "      <td>Denmark</td>\n",
              "      <td>7.600</td>\n",
              "      <td>1.383</td>\n",
              "      <td>1.573</td>\n",
              "      <td>0.996</td>\n",
              "      <td>0.592</td>\n",
              "      <td>0.252</td>\n",
              "      <td>0.410</td>\n",
              "    </tr>\n",
              "    <tr>\n",
              "      <th>3</th>\n",
              "      <td>3</td>\n",
              "      <td>Norway</td>\n",
              "      <td>7.554</td>\n",
              "      <td>1.488</td>\n",
              "      <td>1.582</td>\n",
              "      <td>1.028</td>\n",
              "      <td>0.603</td>\n",
              "      <td>0.271</td>\n",
              "      <td>0.341</td>\n",
              "    </tr>\n",
              "    <tr>\n",
              "      <th>4</th>\n",
              "      <td>4</td>\n",
              "      <td>Iceland</td>\n",
              "      <td>7.494</td>\n",
              "      <td>1.380</td>\n",
              "      <td>1.624</td>\n",
              "      <td>1.026</td>\n",
              "      <td>0.591</td>\n",
              "      <td>0.354</td>\n",
              "      <td>0.118</td>\n",
              "    </tr>\n",
              "    <tr>\n",
              "      <th>5</th>\n",
              "      <td>5</td>\n",
              "      <td>Netherlands</td>\n",
              "      <td>7.488</td>\n",
              "      <td>1.396</td>\n",
              "      <td>1.522</td>\n",
              "      <td>0.999</td>\n",
              "      <td>0.557</td>\n",
              "      <td>0.322</td>\n",
              "      <td>0.298</td>\n",
              "    </tr>\n",
              "  </tbody>\n",
              "</table>\n",
              "</div>"
            ],
            "text/plain": [
              "   Rank      Country  Score    GDP  ...  Health  Freedom  Generosity  Corruption\n",
              "1     1      Finland  7.769  1.340  ...   0.986    0.596       0.153       0.393\n",
              "2     2      Denmark  7.600  1.383  ...   0.996    0.592       0.252       0.410\n",
              "3     3       Norway  7.554  1.488  ...   1.028    0.603       0.271       0.341\n",
              "4     4      Iceland  7.494  1.380  ...   1.026    0.591       0.354       0.118\n",
              "5     5  Netherlands  7.488  1.396  ...   0.999    0.557       0.322       0.298\n",
              "\n",
              "[5 rows x 9 columns]"
            ]
          },
          "metadata": {
            "tags": []
          },
          "execution_count": 7
        }
      ]
    },
    {
      "cell_type": "code",
      "metadata": {
        "id": "iFkZHf_hGEy4",
        "colab": {
          "base_uri": "https://localhost:8080/",
          "height": 191
        },
        "outputId": "680e4982-a7d4-4c2f-b5d6-c4171b993b2e"
      },
      "source": [
        "# And check to make sure all our data types are correct\n",
        "happy_df.dtypes"
      ],
      "execution_count": null,
      "outputs": [
        {
          "output_type": "execute_result",
          "data": {
            "text/plain": [
              "Rank               int64\n",
              "Country           object\n",
              "Score            float64\n",
              "GDP              float64\n",
              "SocialSupport    float64\n",
              "Health           float64\n",
              "Freedom          float64\n",
              "Generosity       float64\n",
              "Corruption       float64\n",
              "dtype: object"
            ]
          },
          "metadata": {
            "tags": []
          },
          "execution_count": 8
        }
      ]
    },
    {
      "cell_type": "markdown",
      "metadata": {
        "id": "j-zxktKyUPi6"
      },
      "source": [
        "\n",
        "\n",
        "---\n",
        "\n",
        "\n",
        "Next,  explore the data. What are some patterns we can observe? These patterns might help us decide what types of data to use in machine learning later.\n",
        "\n",
        "Use the column name inside the brackets, and try using 'describe' to understand the dataset. Some examples from the goodreads set are below. Notice how the same code - 'describe' - has different output when the data type is different.\n",
        "\n",
        "\n",
        "---\n",
        "Read more about grouping and exploring the data here: https://realpython.com/pandas-python-explore-dataset/  \n",
        "\n",
        "and here: https://www.kaggle.com/kashnitsky/topic-1-exploratory-data-analysis-with-pandas\n",
        "\n",
        "\n",
        "---\n",
        "\n",
        "\n",
        "\n",
        "---\n",
        "\n",
        "\n"
      ]
    },
    {
      "cell_type": "code",
      "metadata": {
        "id": "QHUT81zWGMSF",
        "colab": {
          "base_uri": "https://localhost:8080/",
          "height": 208
        },
        "outputId": "1019635d-9453-46ad-b551-b5fef4bc9a78"
      },
      "source": [
        "print(happy_df['GDP'].mode())\n",
        "happy_df['GDP'].describe()\n"
      ],
      "execution_count": null,
      "outputs": [
        {
          "output_type": "stream",
          "text": [
            "0    0.96\n",
            "dtype: float64\n"
          ],
          "name": "stdout"
        },
        {
          "output_type": "execute_result",
          "data": {
            "text/plain": [
              "count    156.000000\n",
              "mean       0.905147\n",
              "std        0.398389\n",
              "min        0.000000\n",
              "25%        0.602750\n",
              "50%        0.960000\n",
              "75%        1.232500\n",
              "max        1.684000\n",
              "Name: GDP, dtype: float64"
            ]
          },
          "metadata": {
            "tags": []
          },
          "execution_count": 9
        }
      ]
    },
    {
      "cell_type": "code",
      "metadata": {
        "id": "h5R1qtaiGaqc",
        "colab": {
          "base_uri": "https://localhost:8080/",
          "height": 208
        },
        "outputId": "f2f7e801-dac3-4d7c-e280-033a441fce24"
      },
      "source": [
        "print(happy_df['SocialSupport'].mode())\n",
        "\n",
        "happy_df['SocialSupport'].describe()"
      ],
      "execution_count": null,
      "outputs": [
        {
          "output_type": "stream",
          "text": [
            "0    1.465\n",
            "dtype: float64\n"
          ],
          "name": "stdout"
        },
        {
          "output_type": "execute_result",
          "data": {
            "text/plain": [
              "count    156.000000\n",
              "mean       1.208814\n",
              "std        0.299191\n",
              "min        0.000000\n",
              "25%        1.055750\n",
              "50%        1.271500\n",
              "75%        1.452500\n",
              "max        1.624000\n",
              "Name: SocialSupport, dtype: float64"
            ]
          },
          "metadata": {
            "tags": []
          },
          "execution_count": 10
        }
      ]
    },
    {
      "cell_type": "code",
      "metadata": {
        "id": "KKVS3TjcGh50",
        "colab": {
          "base_uri": "https://localhost:8080/",
          "height": 225
        },
        "outputId": "b13d0e7e-87e8-45b1-9ee1-b908b1b4bc30"
      },
      "source": [
        "print(happy_df['Health'].mode())\n",
        "\n",
        "happy_df['Health'].describe()"
      ],
      "execution_count": null,
      "outputs": [
        {
          "output_type": "stream",
          "text": [
            "0    0.815\n",
            "1    0.999\n",
            "dtype: float64\n"
          ],
          "name": "stdout"
        },
        {
          "output_type": "execute_result",
          "data": {
            "text/plain": [
              "count    156.000000\n",
              "mean       0.725244\n",
              "std        0.242124\n",
              "min        0.000000\n",
              "25%        0.547750\n",
              "50%        0.789000\n",
              "75%        0.881750\n",
              "max        1.141000\n",
              "Name: Health, dtype: float64"
            ]
          },
          "metadata": {
            "tags": []
          },
          "execution_count": 11
        }
      ]
    },
    {
      "cell_type": "code",
      "metadata": {
        "id": "92w423c4H6BA",
        "colab": {
          "base_uri": "https://localhost:8080/",
          "height": 243
        },
        "outputId": "b09ba767-bfc7-4f29-d91f-ee76abae95ed"
      },
      "source": [
        "print(happy_df['Freedom'].mode())\n",
        "\n",
        "happy_df['Freedom'].describe()"
      ],
      "execution_count": null,
      "outputs": [
        {
          "output_type": "stream",
          "text": [
            "0    0.498\n",
            "1    0.508\n",
            "2    0.557\n",
            "dtype: float64\n"
          ],
          "name": "stdout"
        },
        {
          "output_type": "execute_result",
          "data": {
            "text/plain": [
              "count    156.000000\n",
              "mean       0.392571\n",
              "std        0.143289\n",
              "min        0.000000\n",
              "25%        0.308000\n",
              "50%        0.417000\n",
              "75%        0.507250\n",
              "max        0.631000\n",
              "Name: Freedom, dtype: float64"
            ]
          },
          "metadata": {
            "tags": []
          },
          "execution_count": 12
        }
      ]
    },
    {
      "cell_type": "code",
      "metadata": {
        "id": "rqkeEHQR6-KO",
        "colab": {
          "base_uri": "https://localhost:8080/",
          "height": 173
        },
        "outputId": "600612c4-ca37-4021-c285-372bd841a9c0"
      },
      "source": [
        "happy_df['Score'].describe()"
      ],
      "execution_count": null,
      "outputs": [
        {
          "output_type": "execute_result",
          "data": {
            "text/plain": [
              "count    156.000000\n",
              "mean       5.407096\n",
              "std        1.113120\n",
              "min        2.853000\n",
              "25%        4.544500\n",
              "50%        5.379500\n",
              "75%        6.184500\n",
              "max        7.769000\n",
              "Name: Score, dtype: float64"
            ]
          },
          "metadata": {
            "tags": []
          },
          "execution_count": 13
        }
      ]
    },
    {
      "cell_type": "code",
      "metadata": {
        "id": "lwn0rpceCgBv",
        "colab": {
          "base_uri": "https://localhost:8080/",
          "height": 173
        },
        "outputId": "336b0b9b-414c-44d1-93df-081d53681e4b"
      },
      "source": [
        "happy_df['Generosity'].describe()"
      ],
      "execution_count": null,
      "outputs": [
        {
          "output_type": "execute_result",
          "data": {
            "text/plain": [
              "count    156.000000\n",
              "mean       0.184846\n",
              "std        0.095254\n",
              "min        0.000000\n",
              "25%        0.108750\n",
              "50%        0.177500\n",
              "75%        0.248250\n",
              "max        0.566000\n",
              "Name: Generosity, dtype: float64"
            ]
          },
          "metadata": {
            "tags": []
          },
          "execution_count": 14
        }
      ]
    },
    {
      "cell_type": "markdown",
      "metadata": {
        "id": "GfYQYRN2W1Pi"
      },
      "source": [
        "\n",
        "\n",
        "---\n",
        "\n",
        "\n",
        "Can also use matplotlib to make some graphs. Read more about how \n",
        "\n",
        "here: https://ourcodingclub.github.io/tutorials/pandas-python-intro/#matplotlib \n",
        "\n",
        "and here: https://queirozf.com/entries/pandas-dataframe-plot-examples-with-matplotlib-pyplot\n",
        "\n",
        "\n",
        "---\n",
        "\n",
        "\n",
        "\n",
        "---\n",
        "\n"
      ]
    },
    {
      "cell_type": "code",
      "metadata": {
        "id": "gQ2z0tZyGn_t",
        "colab": {
          "base_uri": "https://localhost:8080/",
          "height": 650
        },
        "outputId": "bb8dca9a-959a-4a6e-b764-977d631ef73c"
      },
      "source": [
        "plt.figure(figsize=(10,10))\n",
        "plt.hist(happy_df['Freedom'], bins=30, range=(0.01, 1))\n",
        "plt.title('\\nHistogram of Freedom Scores', fontsize=18)\n",
        "plt.ylabel('Num of Countries', fontsize=14)\n",
        "plt.xlabel('Freedom', fontsize=14)\n",
        "plt.show()"
      ],
      "execution_count": null,
      "outputs": [
        {
          "output_type": "display_data",
          "data": {
            "image/png": "[encoded data removed]",
            "text/plain": [
              "<Figure size 720x720 with 1 Axes>"
            ]
          },
          "metadata": {
            "tags": [],
            "needs_background": "light"
          }
        }
      ]
    },
    {
      "cell_type": "code",
      "metadata": {
        "id": "VDCmhXVCHzaN",
        "colab": {
          "base_uri": "https://localhost:8080/",
          "height": 173
        },
        "outputId": "9c1d83c6-ae65-4167-8409-1b910da2ce56"
      },
      "source": [
        "happy_df['Corruption'].describe()"
      ],
      "execution_count": null,
      "outputs": [
        {
          "output_type": "execute_result",
          "data": {
            "text/plain": [
              "count    156.000000\n",
              "mean       0.110603\n",
              "std        0.094538\n",
              "min        0.000000\n",
              "25%        0.047000\n",
              "50%        0.085500\n",
              "75%        0.141250\n",
              "max        0.453000\n",
              "Name: Corruption, dtype: float64"
            ]
          },
          "metadata": {
            "tags": []
          },
          "execution_count": 16
        }
      ]
    },
    {
      "cell_type": "code",
      "metadata": {
        "id": "_kZdNI2KHNov",
        "colab": {
          "base_uri": "https://localhost:8080/",
          "height": 521
        },
        "outputId": "ea0a6191-ecff-491a-f657-69322b769137"
      },
      "source": [
        "plt.figure(figsize=(10,8))\n",
        "plt.hist(happy_df['Corruption'], bins=30,range=(0,0.5)) # Set the highest page number at 2000. There are some books with more pages, but they're outliers.\n",
        "plt.title('Histogram of Corruption Score', fontsize=18)\n",
        "plt.ylabel('Number of Countries', fontsize=14)\n",
        "plt.xlabel('Corruption Score', fontsize=14)\n",
        "plt.show()"
      ],
      "execution_count": null,
      "outputs": [
        {
          "output_type": "display_data",
          "data": {
            "image/png": "[encoded data removed]",
            "text/plain": [
              "<Figure size 720x576 with 1 Axes>"
            ]
          },
          "metadata": {
            "tags": [],
            "needs_background": "light"
          }
        }
      ]
    },
    {
      "cell_type": "code",
      "metadata": {
        "id": "JowW5T8CoeMq",
        "colab": {
          "base_uri": "https://localhost:8080/",
          "height": 521
        },
        "outputId": "cddc07d9-a4ec-44e5-94ef-7921d428ff9a"
      },
      "source": [
        "plt.figure(figsize=(10,8))\n",
        "plt.scatter(happy_df['GDP'], happy_df['Score']) # Set the highest page number at 2000. There are some books with more pages, but they're outliers.\n",
        "plt.title('GDP Scatterplot', fontsize=18)\n",
        "plt.ylabel('Score', fontsize=14)\n",
        "plt.xlabel('GDP', fontsize=14)\n",
        "plt.show()"
      ],
      "execution_count": null,
      "outputs": [
        {
          "output_type": "display_data",
          "data": {
            "image/png": "[encoded data removed]",
            "text/plain": [
              "<Figure size 720x576 with 1 Axes>"
            ]
          },
          "metadata": {
            "tags": [],
            "needs_background": "light"
          }
        }
      ]
    },
    {
      "cell_type": "code",
      "metadata": {
        "id": "s-BXV6u1pnZ8",
        "colab": {
          "base_uri": "https://localhost:8080/",
          "height": 521
        },
        "outputId": "2074798b-8079-4de9-8c5a-ddf17b80ae68"
      },
      "source": [
        "plt.figure(figsize=(10,8))\n",
        "plt.scatter(happy_df['Health'], happy_df['Score']) # Set the highest page number at 2000. There are some books with more pages, but they're outliers.\n",
        "plt.title('Health Scatterplot', fontsize=18)\n",
        "plt.ylabel('Score', fontsize=14)\n",
        "plt.xlabel('Health', fontsize=14)\n",
        "plt.show()"
      ],
      "execution_count": null,
      "outputs": [
        {
          "output_type": "display_data",
          "data": {
            "image/png": "[encoded data removed]",
            "text/plain": [
              "<Figure size 720x576 with 1 Axes>"
            ]
          },
          "metadata": {
            "tags": [],
            "needs_background": "light"
          }
        }
      ]
    },
    {
      "cell_type": "code",
      "metadata": {
        "id": "Iw8VkhGfqFNw",
        "colab": {
          "base_uri": "https://localhost:8080/",
          "height": 521
        },
        "outputId": "9d5a1861-83fd-4878-c4ac-f7770048a62d"
      },
      "source": [
        "plt.figure(figsize=(10,8))\n",
        "plt.scatter(happy_df['SocialSupport'], happy_df['Score']) # Set the highest page number at 2000. There are some books with more pages, but they're outliers.\n",
        "plt.title('Fam Scatterplot', fontsize=18)\n",
        "plt.ylabel('Score', fontsize=14)\n",
        "plt.xlabel('SocialSupport', fontsize=14)\n",
        "plt.show()"
      ],
      "execution_count": null,
      "outputs": [
        {
          "output_type": "display_data",
          "data": {
            "image/png": "[encoded data removed]",
            "text/plain": [
              "<Figure size 720x576 with 1 Axes>"
            ]
          },
          "metadata": {
            "tags": [],
            "needs_background": "light"
          }
        }
      ]
    },
    {
      "cell_type": "code",
      "metadata": {
        "id": "QQs1vhNGGP0a",
        "colab": {
          "base_uri": "https://localhost:8080/",
          "height": 183
        },
        "outputId": "bf071b30-c8b7-4832-f98f-88b0ee9b5fe7"
      },
      "source": [
        "import seaborn as sea\n",
        "sea.pairplot(happy_df)"
      ],
      "execution_count": 1,
      "outputs": [
        {
          "output_type": "error",
          "ename": "NameError",
          "evalue": "ignored",
          "traceback": [
            "\u001b[0;31m---------------------------------------------------------------------------\u001b[0m",
            "\u001b[0;31mNameError\u001b[0m                                 Traceback (most recent call last)",
            "\u001b[0;32m<ipython-input-1-9c8c165011cc>\u001b[0m in \u001b[0;36m<module>\u001b[0;34m()\u001b[0m\n\u001b[1;32m      1\u001b[0m \u001b[0;32mimport\u001b[0m \u001b[0mseaborn\u001b[0m \u001b[0;32mas\u001b[0m \u001b[0msea\u001b[0m\u001b[0;34m\u001b[0m\u001b[0;34m\u001b[0m\u001b[0m\n\u001b[0;32m----> 2\u001b[0;31m \u001b[0msea\u001b[0m\u001b[0;34m.\u001b[0m\u001b[0mpairplot\u001b[0m\u001b[0;34m(\u001b[0m\u001b[0mhappy_df\u001b[0m\u001b[0;34m)\u001b[0m\u001b[0;34m\u001b[0m\u001b[0;34m\u001b[0m\u001b[0m\n\u001b[0m",
            "\u001b[0;31mNameError\u001b[0m: name 'happy_df' is not defined"
          ]
        }
      ]
    },
    {
      "cell_type": "markdown",
      "metadata": {
        "id": "Hy-IdiWRXlfL"
      },
      "source": [
        "\n",
        "\n",
        "---\n",
        "\n",
        "\n",
        "Using groupby to show mean score of each country\n",
        "\n",
        "Read more about everything you can do using groupby here: https://www.bitdegree.org/learn/pandas-groupby\n",
        "\n",
        "and here: https://www.bitdegree.org/learn/pandas-groupby\n",
        "\n",
        "and here: https://www.shanelynn.ie/summarising-aggregation-and-grouping-data-in-python-pandas/\n",
        "\n",
        "\n",
        "---\n",
        "\n",
        "\n",
        "\n",
        "---\n",
        "\n"
      ]
    },
    {
      "cell_type": "code",
      "metadata": {
        "id": "80VsgsXPHqiV",
        "colab": {
          "base_uri": "https://localhost:8080/",
          "height": 243
        },
        "outputId": "b8721a4e-52bb-4e6e-90e1-d8da092b5d46"
      },
      "source": [
        "happy_df.groupby(\"Country\")[\"Score\"].mean()"
      ],
      "execution_count": null,
      "outputs": [
        {
          "output_type": "execute_result",
          "data": {
            "text/plain": [
              "Country\n",
              "Afghanistan    3.203\n",
              "Albania        4.719\n",
              "Algeria        5.211\n",
              "Argentina      6.086\n",
              "Armenia        4.559\n",
              "               ...  \n",
              "Venezuela      4.707\n",
              "Vietnam        5.175\n",
              "Yemen          3.380\n",
              "Zambia         4.107\n",
              "Zimbabwe       3.663\n",
              "Name: Score, Length: 156, dtype: float64"
            ]
          },
          "metadata": {
            "tags": []
          },
          "execution_count": 43
        }
      ]
    },
    {
      "cell_type": "markdown",
      "metadata": {
        "id": "oxFjtUXhV0l_"
      },
      "source": [
        "\n",
        "\n",
        "---\n",
        "\n",
        "# **Feature Engineering**\n",
        "\n",
        "---\n",
        "\n",
        "\n",
        "Next is feature engineering - editing existing columns or creating some new columns based on the existing data. Sometimes we'll use mathematical functions to create new columns, and sometimes we'll combine data in other ways.\n",
        "\n",
        "\n",
        "\n",
        "\n",
        "---\n",
        "\n",
        "\n",
        "\n",
        "More information about feature engineering using pandas here: \n",
        "\n",
        "https://heartbeat.fritz.ai/a-practical-guide-to-feature-engineering-in-python-8326e40747c8\n",
        "\n",
        "https://medium.com/@michaelabehsera/feature-engineering-cookbook-for-machine-learning-7bf21f0bcbae\n",
        "\n",
        "http://blog.yhat.com/tutorials/5-Feature-Engineering.html\n",
        "\n",
        "---\n",
        "On the happiness data, start with:\n",
        "* Merging similar categories together\n",
        "* Creating dummy variables\n",
        "* Creating bins/buckets\n",
        "\n",
        "\n",
        "---\n",
        "\n"
      ]
    },
    {
      "cell_type": "markdown",
      "metadata": {
        "id": "samUZ1OND5tZ"
      },
      "source": [
        "\n",
        "\n",
        "\n",
        "---\n",
        "\n",
        "\n",
        "\n",
        "Read more about how to convert categorical data to numeric form here: \n",
        "\n",
        "https://towardsdatascience.com/the-dummys-guide-to-creating-dummy-variables-f21faddb1d40\n",
        "\n",
        "https://www.analyticsvidhya.com/blog/2015/11/easy-methods-deal-categorical-variables-predictive-modeling/\n",
        "\n",
        "\n",
        "---\n",
        "\n",
        "\n",
        "\n",
        "---\n",
        "\n"
      ]
    },
    {
      "cell_type": "markdown",
      "metadata": {
        "id": "3TrbkyYdIXIZ"
      },
      "source": [
        "One more feature to add is binning. There is a wide range of page numbers and average ratings. We'll create some bins/buckets that tell us if they are in the top, middle, or bottom third of page numbers or ratings.\n",
        "\n",
        "Read more about binning here:\n",
        "\n",
        "https://pbpython.com/pandas-qcut-cut.html"
      ]
    },
    {
      "cell_type": "code",
      "metadata": {
        "id": "98fXRK6eroIa",
        "colab": {
          "base_uri": "https://localhost:8080/",
          "height": 202
        },
        "outputId": "3ecf9def-98ed-4e0a-c06f-1bd57383748a"
      },
      "source": [
        "score_labels = [1,2]\n",
        "# unhappy = 1 and happy = 2\n",
        "happy_df['Score_Bin'] = pd.qcut(happy_df['Score'],q=2,labels=score_labels)\n",
        "\n",
        "# View the bins and how many data points are in each bin\n",
        "pd.value_counts(happy_df['Score_Bin'])\n",
        "\n",
        "happy_df.head()\n"
      ],
      "execution_count": null,
      "outputs": [
        {
          "output_type": "execute_result",
          "data": {
            "text/html": [
              "<div>\n",
              "<style scoped>\n",
              "    .dataframe tbody tr th:only-of-type {\n",
              "        vertical-align: middle;\n",
              "    }\n",
              "\n",
              "    .dataframe tbody tr th {\n",
              "        vertical-align: top;\n",
              "    }\n",
              "\n",
              "    .dataframe thead th {\n",
              "        text-align: right;\n",
              "    }\n",
              "</style>\n",
              "<table border=\"1\" class=\"dataframe\">\n",
              "  <thead>\n",
              "    <tr style=\"text-align: right;\">\n",
              "      <th></th>\n",
              "      <th>Rank</th>\n",
              "      <th>Country</th>\n",
              "      <th>Score</th>\n",
              "      <th>GDP</th>\n",
              "      <th>SocialSupport</th>\n",
              "      <th>Health</th>\n",
              "      <th>Freedom</th>\n",
              "      <th>Generosity</th>\n",
              "      <th>Corruption</th>\n",
              "      <th>Score_Bin</th>\n",
              "    </tr>\n",
              "  </thead>\n",
              "  <tbody>\n",
              "    <tr>\n",
              "      <th>1</th>\n",
              "      <td>1</td>\n",
              "      <td>Finland</td>\n",
              "      <td>7.769</td>\n",
              "      <td>1.340</td>\n",
              "      <td>1.587</td>\n",
              "      <td>0.986</td>\n",
              "      <td>0.596</td>\n",
              "      <td>0.153</td>\n",
              "      <td>0.393</td>\n",
              "      <td>2</td>\n",
              "    </tr>\n",
              "    <tr>\n",
              "      <th>2</th>\n",
              "      <td>2</td>\n",
              "      <td>Denmark</td>\n",
              "      <td>7.600</td>\n",
              "      <td>1.383</td>\n",
              "      <td>1.573</td>\n",
              "      <td>0.996</td>\n",
              "      <td>0.592</td>\n",
              "      <td>0.252</td>\n",
              "      <td>0.410</td>\n",
              "      <td>2</td>\n",
              "    </tr>\n",
              "    <tr>\n",
              "      <th>3</th>\n",
              "      <td>3</td>\n",
              "      <td>Norway</td>\n",
              "      <td>7.554</td>\n",
              "      <td>1.488</td>\n",
              "      <td>1.582</td>\n",
              "      <td>1.028</td>\n",
              "      <td>0.603</td>\n",
              "      <td>0.271</td>\n",
              "      <td>0.341</td>\n",
              "      <td>2</td>\n",
              "    </tr>\n",
              "    <tr>\n",
              "      <th>4</th>\n",
              "      <td>4</td>\n",
              "      <td>Iceland</td>\n",
              "      <td>7.494</td>\n",
              "      <td>1.380</td>\n",
              "      <td>1.624</td>\n",
              "      <td>1.026</td>\n",
              "      <td>0.591</td>\n",
              "      <td>0.354</td>\n",
              "      <td>0.118</td>\n",
              "      <td>2</td>\n",
              "    </tr>\n",
              "    <tr>\n",
              "      <th>5</th>\n",
              "      <td>5</td>\n",
              "      <td>Netherlands</td>\n",
              "      <td>7.488</td>\n",
              "      <td>1.396</td>\n",
              "      <td>1.522</td>\n",
              "      <td>0.999</td>\n",
              "      <td>0.557</td>\n",
              "      <td>0.322</td>\n",
              "      <td>0.298</td>\n",
              "      <td>2</td>\n",
              "    </tr>\n",
              "  </tbody>\n",
              "</table>\n",
              "</div>"
            ],
            "text/plain": [
              "   Rank      Country  Score    GDP  ...  Freedom  Generosity  Corruption  Score_Bin\n",
              "1     1      Finland  7.769  1.340  ...    0.596       0.153       0.393          2\n",
              "2     2      Denmark  7.600  1.383  ...    0.592       0.252       0.410          2\n",
              "3     3       Norway  7.554  1.488  ...    0.603       0.271       0.341          2\n",
              "4     4      Iceland  7.494  1.380  ...    0.591       0.354       0.118          2\n",
              "5     5  Netherlands  7.488  1.396  ...    0.557       0.322       0.298          2\n",
              "\n",
              "[5 rows x 10 columns]"
            ]
          },
          "metadata": {
            "tags": []
          },
          "execution_count": 44
        }
      ]
    },
    {
      "cell_type": "markdown",
      "metadata": {
        "id": "hp0Dw6lARktu"
      },
      "source": [
        "\n",
        "\n",
        "---\n",
        "Now let's do something similar for page numbers. \n",
        "\n",
        "\n",
        "---\n",
        "\n",
        "\n"
      ]
    },
    {
      "cell_type": "code",
      "metadata": {
        "id": "Vd79-E7avVVE",
        "colab": {
          "base_uri": "https://localhost:8080/",
          "height": 110
        },
        "outputId": "b3b6f569-0fdf-4069-8358-6ebcd02906f4"
      },
      "source": [
        "res, bins = pd.qcut(happy_df['Score'],\n",
        "                        q=2,\n",
        "                        labels=score_labels,\n",
        "                        retbins=True)\n",
        "\n",
        "resTable = pd.DataFrame(zip(bins, score_labels),\n",
        "                        columns=['Score Threshold', 'Label'])\n",
        "\n",
        "resTable"
      ],
      "execution_count": null,
      "outputs": [
        {
          "output_type": "execute_result",
          "data": {
            "text/html": [
              "<div>\n",
              "<style scoped>\n",
              "    .dataframe tbody tr th:only-of-type {\n",
              "        vertical-align: middle;\n",
              "    }\n",
              "\n",
              "    .dataframe tbody tr th {\n",
              "        vertical-align: top;\n",
              "    }\n",
              "\n",
              "    .dataframe thead th {\n",
              "        text-align: right;\n",
              "    }\n",
              "</style>\n",
              "<table border=\"1\" class=\"dataframe\">\n",
              "  <thead>\n",
              "    <tr style=\"text-align: right;\">\n",
              "      <th></th>\n",
              "      <th>Score Threshold</th>\n",
              "      <th>Label</th>\n",
              "    </tr>\n",
              "  </thead>\n",
              "  <tbody>\n",
              "    <tr>\n",
              "      <th>0</th>\n",
              "      <td>2.8530</td>\n",
              "      <td>1</td>\n",
              "    </tr>\n",
              "    <tr>\n",
              "      <th>1</th>\n",
              "      <td>5.3795</td>\n",
              "      <td>2</td>\n",
              "    </tr>\n",
              "  </tbody>\n",
              "</table>\n",
              "</div>"
            ],
            "text/plain": [
              "   Score Threshold  Label\n",
              "0           2.8530      1\n",
              "1           5.3795      2"
            ]
          },
          "metadata": {
            "tags": []
          },
          "execution_count": 45
        }
      ]
    },
    {
      "cell_type": "markdown",
      "metadata": {
        "id": "o2g0a4JEqX0Y"
      },
      "source": [
        "\n",
        "\n",
        "---\n",
        "\n",
        "\n",
        "# **Objective One: Classifying Happiness**\n",
        "\n",
        "\n",
        "\n",
        "---\n",
        "\n",
        "\n",
        "Now we'll work on some classification using our data.\n",
        "\n",
        "Let's see if we can accurately predict whether a country is happy or unhappy. \n",
        "\n",
        "---\n",
        "See options in the scikit-learn package for machine learning here: https://scikit-learn.org/stable/tutorial/machine_learning_map/index.html\n"
      ]
    },
    {
      "cell_type": "markdown",
      "metadata": {
        "id": "LapQ6DAbvBc3"
      },
      "source": [
        "[link text](https://)\n",
        "\n",
        "---\n",
        "\n",
        "\n",
        "\n",
        "\n",
        "First, split our data into a training set and a test set. Use the training set to develop our model, then use the test set to see how well the model performs on other data.\n",
        "\n",
        "Read about splitting between training and testing sets here: \n",
        "\n",
        "https://developers.google.com/machine-learning/crash-course/training-and-test-sets/splitting-data\n",
        "\n",
        "https://medium.com/@contactsunny/how-to-split-your-dataset-to-train-and-test-datasets-using-scikit-learn-e7cf6eb5e0d\n",
        "\n",
        "\n",
        "https://www.bitdegree.org/learn/train-test-split\n",
        "\n",
        "---\n",
        "Note: Most of these algorithms do not tolerate missing data. Might be better to drop all the rows where there is missing data. See example:\n",
        "\n",
        "https://www.sicara.ai/blog/2018-02-28-naive-bayes-classification-sklearn\n",
        "\n",
        "\n",
        "---\n",
        "\n",
        "\n"
      ]
    },
    {
      "cell_type": "code",
      "metadata": {
        "id": "zSOCRy3BwPDe"
      },
      "source": [
        "from scipy import stats\n",
        "from sklearn import svm\n",
        "from sklearn.metrics import accuracy_score\n",
        "from sklearn import datasets\n",
        "from sklearn.model_selection import train_test_split"
      ],
      "execution_count": null,
      "outputs": []
    },
    {
      "cell_type": "code",
      "metadata": {
        "id": "YUnDe1G-wyuD"
      },
      "source": [
        "\n",
        "x = happy_df[['GDP','SocialSupport','Health']]\n",
        "\n",
        "y = happy_df[['Score_Bin']]"
      ],
      "execution_count": null,
      "outputs": []
    },
    {
      "cell_type": "code",
      "metadata": {
        "id": "JURuQON7ooFv"
      },
      "source": [
        "# We'll save 20 percent of our data for testing and use 80 percent for training\n",
        "x_train, x_test, y_train, y_test = train_test_split(x, y, test_size=0.20)"
      ],
      "execution_count": null,
      "outputs": []
    },
    {
      "cell_type": "markdown",
      "metadata": {
        "id": "RcZoqBCPzLBg"
      },
      "source": [
        "\n",
        "\n",
        "---\n",
        "First we'll use Naive Bayes\n",
        "\n",
        "\n",
        "---\n",
        "\n",
        "Read more about applying Naive Bayes using scikit-learn here:\n",
        "\n",
        "https://heartbeat.fritz.ai/naive-bayes-classifier-in-python-using-scikit-learn-13c4deb83bcf\n",
        "\n",
        "https://www.sicara.ai/blog/2018-02-28-naive-bayes-classification-sklearn\n",
        "\n",
        "---\n",
        "\n",
        "\n"
      ]
    },
    {
      "cell_type": "code",
      "metadata": {
        "id": "6tRB8-udyyhX",
        "colab": {
          "base_uri": "https://localhost:8080/",
          "height": 107
        },
        "outputId": "01163a81-37c3-46c2-e33d-e060a5a85ede"
      },
      "source": [
        "from sklearn.naive_bayes import GaussianNB, BernoulliNB, MultinomialNB\n",
        "\n",
        "x = happy_df[['GDP','SocialSupport','Health']]\n",
        "\n",
        "y = happy_df[['Score_Bin']]\n",
        "\n",
        "x_train, x_test, y_train, y_test = train_test_split(x, y, test_size=0.20,random_state=0)\n",
        "# This is where we set our machine learning algorithm type - Naive Bayes\n",
        "model1 = GaussianNB()\n",
        "\n",
        "# Fit the model with our training data\n",
        "model1.fit(x_train,y_train)\n",
        "\n",
        "# Use the model to make predictions using our testing input data\n",
        "y_pred = model1.predict(x_test)\n",
        "\n",
        "accuracy = accuracy_score(y_test,y_pred)*100\n",
        "\n",
        "print(y_pred)\n",
        "accuracy"
      ],
      "execution_count": null,
      "outputs": [
        {
          "output_type": "stream",
          "text": [
            "[2 2 2 1 2 2 2 2 1 2 2 2 1 1 2 1 2 1 2 1 1 2 1 2 1 1 1 2 2 1 2 2]\n"
          ],
          "name": "stdout"
        },
        {
          "output_type": "stream",
          "text": [
            "/usr/local/lib/python3.6/dist-packages/sklearn/naive_bayes.py:206: DataConversionWarning: A column-vector y was passed when a 1d array was expected. Please change the shape of y to (n_samples, ), for example using ravel().\n",
            "  y = column_or_1d(y, warn=True)\n"
          ],
          "name": "stderr"
        },
        {
          "output_type": "execute_result",
          "data": {
            "text/plain": [
              "90.625"
            ]
          },
          "metadata": {
            "tags": []
          },
          "execution_count": 49
        }
      ]
    },
    {
      "cell_type": "code",
      "metadata": {
        "id": "8ldjrVbFT080",
        "colab": {
          "base_uri": "https://localhost:8080/",
          "height": 449
        },
        "outputId": "88c7e0b4-aa3b-4249-f8a9-70f9458b0dc3"
      },
      "source": [
        "from sklearn.metrics import confusion_matrix\n",
        "import matplotlib.pyplot as plt\n",
        "import seaborn as sea\n",
        "# 1=unhappy, 2=happy\n",
        "\n",
        "confusion_matrix = confusion_matrix(y_test, y_pred)\n",
        "conmat_df = pd.DataFrame(confusion_matrix,\n",
        "                         index=[i for i in [1,2]],\n",
        "                         columns = [j for j in ['1 (pred)', '2 (pred)']])\n",
        "plt.figure(figsize=(10,7))\n",
        "sea.heatmap(conmat_df,annot=True)"
      ],
      "execution_count": null,
      "outputs": [
        {
          "output_type": "execute_result",
          "data": {
            "text/plain": [
              "<matplotlib.axes._subplots.AxesSubplot at 0x7fa395a92cc0>"
            ]
          },
          "metadata": {
            "tags": []
          },
          "execution_count": 50
        },
        {
          "output_type": "display_data",
          "data": {
            "image/png": "[encoded data removed]",
            "text/plain": [
              "<Figure size 720x504 with 2 Axes>"
            ]
          },
          "metadata": {
            "tags": [],
            "needs_background": "light"
          }
        }
      ]
    },
    {
      "cell_type": "code",
      "metadata": {
        "id": "yU5hVAAYPFLg"
      },
      "source": [
        "def showHappy(model1):\n",
        "  cd = createDict(0)\n",
        "  user_df=pd.DataFrame(cd)\n",
        "  user_pred=model1.predict(user_df)\n",
        "\n",
        "  for i in range(len(user_pred)):\n",
        "    if user_pred[i]==1:\n",
        "      return \"Unhappy :(\"\n",
        "    else:\n",
        "      return \"Happy :)\"\n"
      ],
      "execution_count": null,
      "outputs": []
    },
    {
      "cell_type": "code",
      "metadata": {
        "id": "truDc5wXRmwu",
        "colab": {
          "base_uri": "https://localhost:8080/",
          "height": 87
        },
        "outputId": "a144a002-77b0-4487-9910-462bd46a22ea"
      },
      "source": [
        "showHappy(model1)"
      ],
      "execution_count": null,
      "outputs": [
        {
          "output_type": "stream",
          "text": [
            "Enter a GDP value: 1.2\n",
            "Enter a Social Support score: 1\n",
            "Enter a Health Life Expectancy score: 0.88\n"
          ],
          "name": "stdout"
        },
        {
          "output_type": "execute_result",
          "data": {
            "application/vnd.google.colaboratory.intrinsic+json": {
              "type": "string"
            },
            "text/plain": [
              "'Unhappy :('"
            ]
          },
          "metadata": {
            "tags": []
          },
          "execution_count": 67
        }
      ]
    },
    {
      "cell_type": "markdown",
      "metadata": {
        "id": "hvE1UgaB0nYF"
      },
      "source": [
        "\n",
        "\n",
        "---\n",
        "\n",
        "\n",
        "# **Objective Two: Predicting Happiness Scores** \n",
        "\n",
        "\n",
        "\n",
        "---\n",
        "\n",
        "\n",
        "Now we'll work on some prediction using the data.\n",
        "\n"
      ]
    },
    {
      "cell_type": "code",
      "metadata": {
        "id": "S-x2GUQD0O_j",
        "colab": {
          "base_uri": "https://localhost:8080/",
          "height": 283
        },
        "outputId": "a250c028-fb7c-4bbb-f3f2-6820653888b3"
      },
      "source": [
        "import matplotlib.pyplot as plt\n",
        "from sklearn.linear_model import LinearRegression #, LogisticRegression\n",
        "from sklearn.model_selection import train_test_split\n",
        "from sklearn.datasets import load_diabetes\n",
        "from sklearn.metrics import mean_squared_error\n",
        "import statsmodels.api as sm \n",
        "\n",
        "x1 = happy_df[['Health']]\n",
        "y = happy_df[['Score']]\n",
        "x1_train, x1_test, y_train, y_test = train_test_split(x1, y, train_size=0.8)\n",
        "plt.scatter(x1_test,y_test,color='black')"
      ],
      "execution_count": null,
      "outputs": [
        {
          "output_type": "execute_result",
          "data": {
            "text/plain": [
              "<matplotlib.collections.PathCollection at 0x7fa38a9e0208>"
            ]
          },
          "metadata": {
            "tags": []
          },
          "execution_count": 53
        },
        {
          "output_type": "display_data",
          "data": {
            "image/png": "[encoded data removed]",
            "text/plain": [
              "<Figure size 432x288 with 1 Axes>"
            ]
          },
          "metadata": {
            "tags": [],
            "needs_background": "light"
          }
        }
      ]
    },
    {
      "cell_type": "code",
      "metadata": {
        "id": "hXrns9BS1SBM",
        "colab": {
          "base_uri": "https://localhost:8080/",
          "height": 283
        },
        "outputId": "71d1b5c7-1e99-4568-fd83-14a3271f2032"
      },
      "source": [
        "x2 = happy_df[['GDP']]\n",
        "y = happy_df[['Score']]\n",
        "x2_train, x2_test, y_train, y_test = train_test_split(x2, y, train_size=0.8)\n",
        "plt.scatter(x2_test, y_test,color='black')"
      ],
      "execution_count": null,
      "outputs": [
        {
          "output_type": "execute_result",
          "data": {
            "text/plain": [
              "<matplotlib.collections.PathCollection at 0x7fa38a942358>"
            ]
          },
          "metadata": {
            "tags": []
          },
          "execution_count": 54
        },
        {
          "output_type": "display_data",
          "data": {
            "image/png": "[encoded data removed]",
            "text/plain": [
              "<Figure size 432x288 with 1 Axes>"
            ]
          },
          "metadata": {
            "tags": [],
            "needs_background": "light"
          }
        }
      ]
    },
    {
      "cell_type": "code",
      "metadata": {
        "id": "xxqGr6_y1h7Q",
        "colab": {
          "base_uri": "https://localhost:8080/",
          "height": 287
        },
        "outputId": "cd094643-0de7-41cf-e86d-4b7a7aad71f4"
      },
      "source": [
        "x3 = happy_df[['SocialSupport']]\n",
        "y = happy_df[['Score']]\n",
        "x3_train, x3_test, y_train, y_test = train_test_split(x3, y, train_size=0.8)\n",
        "plt.scatter(x3_test, y_test,color='black')"
      ],
      "execution_count": null,
      "outputs": [
        {
          "output_type": "execute_result",
          "data": {
            "text/plain": [
              "<matplotlib.collections.PathCollection at 0x7fa38a925f28>"
            ]
          },
          "metadata": {
            "tags": []
          },
          "execution_count": 55
        },
        {
          "output_type": "display_data",
          "data": {
            "image/png": "[encoded data removed]",
            "text/plain": [
              "<Figure size 432x288 with 1 Axes>"
            ]
          },
          "metadata": {
            "tags": [],
            "needs_background": "light"
          }
        }
      ]
    },
    {
      "cell_type": "code",
      "metadata": {
        "id": "yUXvpV4h11vH"
      },
      "source": [
        "x4 = happy_df[['Freedom']]\n",
        "y = happy_df[['Score']]\n",
        "x4_train, x4_test, y_train, y_test = train_test_split(x4, y, train_size=0.8)\n",
        "plt.scatter(x4_test, y_test,color='black')"
      ],
      "execution_count": null,
      "outputs": []
    },
    {
      "cell_type": "code",
      "metadata": {
        "id": "qQGXSSwmhA67"
      },
      "source": [
        "#linear regression and objective one dreaming about heroin\n",
        "import numpy as np\n",
        "import matplotlib.pyplot as plt\n",
        "from sklearn.linear_model import LinearRegression, LogisticRegression\n",
        "from sklearn.model_selection import train_test_split\n",
        "from sklearn.datasets import load_diabetes\n",
        "from sklearn.metrics import mean_squared_error\n",
        "\n",
        "x = happy_df[['GDP','SocialSupport','Health','Freedom']]\n",
        "y = happy_df[['Score']]\n",
        "x_train, x_test, y_train, y_test = train_test_split(x, y, train_size=0.8, random_state=1)\n",
        "\n",
        "lin = LinearRegression()\n",
        "lin.fit(x_train,y_train)\n",
        "linPred = lin.predict(x_test)"
      ],
      "execution_count": null,
      "outputs": []
    },
    {
      "cell_type": "code",
      "metadata": {
        "id": "h-Hh01kAvr5w",
        "colab": {
          "base_uri": "https://localhost:8080/",
          "height": 624
        },
        "outputId": "1d036f19-ac49-459b-e34b-e2951810fc97"
      },
      "source": [
        "print(x_test[0:10])\n",
        "print(y_test[0:10])\n",
        "print(linPred[0:10])\n",
        "\n",
        "linErr = mean_squared_error(linPred, y_test)\n",
        "print(linErr)\n",
        "\n",
        "print(lin.intercept_)\n",
        "lin.coef_"
      ],
      "execution_count": null,
      "outputs": [
        {
          "output_type": "stream",
          "text": [
            "       GDP  SocialSupport  Health  Freedom\n",
            "118  0.380          0.829   0.375    0.332\n",
            "76   1.438          1.277   1.122    0.440\n",
            "52   1.050          1.409   0.828    0.557\n",
            "32   1.004          1.439   0.802    0.390\n",
            "36   1.294          1.488   1.039    0.231\n",
            "41   0.745          1.529   0.756    0.631\n",
            "15   1.333          1.538   0.996    0.450\n",
            "110  0.657          1.247   0.672    0.225\n",
            "54   1.301          1.219   1.036    0.159\n",
            "147  0.323          0.688   0.449    0.026\n",
            "     Score\n",
            "118  4.534\n",
            "76   5.430\n",
            "52   6.008\n",
            "32   6.300\n",
            "36   6.223\n",
            "41   6.174\n",
            "15   7.054\n",
            "110  4.696\n",
            "54   5.895\n",
            "147  3.597\n",
            "[[4.11269785]\n",
            " [6.42070726]\n",
            " [6.15120123]\n",
            " [5.81593247]\n",
            " [6.06243719]\n",
            " [6.09183353]\n",
            " [6.49838836]\n",
            " [4.89759353]\n",
            " [5.64914036]\n",
            " [3.44080135]]\n",
            "0.18263718454677041\n",
            "[1.93124747]\n"
          ],
          "name": "stdout"
        },
        {
          "output_type": "execute_result",
          "data": {
            "text/plain": [
              "array([[0.80261627, 1.06034126, 1.05492727, 1.81275776]])"
            ]
          },
          "metadata": {
            "tags": []
          },
          "execution_count": 57
        }
      ]
    },
    {
      "cell_type": "markdown",
      "metadata": {
        "id": "siu71aw_gqXi"
      },
      "source": [
        ""
      ]
    },
    {
      "cell_type": "code",
      "metadata": {
        "id": "Rgsdz8Hwex74",
        "colab": {
          "base_uri": "https://localhost:8080/",
          "height": 229
        },
        "outputId": "8d879f4a-5bae-420b-a1fb-ef996ab51579"
      },
      "source": [
        "import seaborn as sea\n",
        "sea.pairplot(data=happy_df[['Score','GDP','SocialSupport','Health', 'Freedom']],\n",
        "             x_vars=['GDP','SocialSupport','Health','Freedom'],\n",
        "             y_vars=['Score']) \n",
        "\n"
      ],
      "execution_count": null,
      "outputs": [
        {
          "output_type": "execute_result",
          "data": {
            "text/plain": [
              "<seaborn.axisgrid.PairGrid at 0x7fa38a999c88>"
            ]
          },
          "metadata": {
            "tags": []
          },
          "execution_count": 58
        },
        {
          "output_type": "display_data",
          "data": {
            "image/png": "[encoded data removed]",
            "text/plain": [
              "<Figure size 720x180 with 4 Axes>"
            ]
          },
          "metadata": {
            "tags": [],
            "needs_background": "light"
          }
        }
      ]
    },
    {
      "cell_type": "code",
      "metadata": {
        "id": "rdWwmWSP5Ylt"
      },
      "source": [
        "def createDict(num): \n",
        "  dictofscores = dict()\n",
        "  for i in range(4):\n",
        "    if i == 0:\n",
        "      dictofscores[\"GDP\"] = [float(input(\"Enter a GDP value: \"))]\n",
        "    elif i == 1:\n",
        "      dictofscores[\"SocialSupport\"] = [float(input(\"Enter a Social Support score: \"))]\n",
        "    elif i == 2:\n",
        "      dictofscores[\"Health\"] = [float(input(\"Enter a Health Life Expectancy score: \"))]\n",
        "    elif i == 3: \n",
        "      if num == 1:\n",
        "        dictofscores[\"Freedom\"] = [float(input(\"Enter a Freedom score: \"))]\n",
        "\n",
        "  return dictofscores"
      ],
      "execution_count": null,
      "outputs": []
    },
    {
      "cell_type": "code",
      "metadata": {
        "id": "45Gp61aQq34b"
      },
      "source": [
        "def predictHappy(x,y, dictofscores):\n",
        "  req_df = pd.DataFrame(dictofscores)\n",
        "  x = happy_df[['GDP','SocialSupport','Health','Freedom']]\n",
        "  y = happy_df[['Score']]\n",
        "\n",
        "  x_train, x_test, y_train, y_test = train_test_split(x, y, train_size=0.8, random_state=1)\n",
        "\n",
        "  lin = LinearRegression()\n",
        "  lin.fit(x_train,y_train)\n",
        "  \n",
        "\n",
        "  return lin.predict(req_df)[0][0]\n",
        "\n"
      ],
      "execution_count": null,
      "outputs": []
    },
    {
      "cell_type": "code",
      "metadata": {
        "id": "d_61x3yKo5iU",
        "colab": {
          "base_uri": "https://localhost:8080/",
          "height": 104
        },
        "outputId": "8491ee25-0520-43fb-83a9-0d57195c6c9e"
      },
      "source": [
        "x = happy_df[['GDP','SocialSupport','Health','Freedom']]\n",
        "y = happy_df[['Score']]\n",
        "\n",
        "diction = createDict(1)\n",
        "predictHappy(x,y,diction)\n",
        "\n",
        "print(\"Your happiness score was {}\".format(predictHappy(x,y,diction)))"
      ],
      "execution_count": null,
      "outputs": [
        {
          "output_type": "stream",
          "text": [
            "Enter a GDP value: 0.8\n",
            "Enter a Social Support score: 1.5\n",
            "Enter a Health Life Expectancy score: 1\n",
            "Enter a Freedom score: 0.3\n",
            "Your happiness score was 5.762606967622132\n"
          ],
          "name": "stdout"
        }
      ]
    },
    {
      "cell_type": "markdown",
      "metadata": {
        "id": "R_Oy1W48o0LZ"
      },
      "source": [
        "# Objective Three: Recommend a Country"
      ]
    },
    {
      "cell_type": "code",
      "metadata": {
        "id": "Sse4NBjrpMvG"
      },
      "source": [
        "from sklearn.neighbors import NearestNeighbors as nn\n",
        "\n",
        "def countryRec(test):\n",
        "  X = happy_df[['SocialSupport','Freedom','GDP']]\n",
        "  nbhd = nn(metric='cosine',n_neighbors=20).fit(X) \n",
        "\n",
        "  print(\"You should visit\", happy_df.iloc[nbhd.kneighbors([test])[1][0][0]]['Country'])\n",
        "  print(\"Social Support Score:\", happy_df.iloc[nbhd.kneighbors([test])[1][0][0]]['SocialSupport'])\n",
        "  print(\"Freedom Score:\", happy_df.iloc[nbhd.kneighbors([test])[1][0][0]]['Freedom'])\n",
        "  print(\"GDP Score:\", happy_df.iloc[nbhd.kneighbors([test])[1][0][0]]['GDP'])"
      ],
      "execution_count": null,
      "outputs": []
    },
    {
      "cell_type": "code",
      "metadata": {
        "id": "EcGLuskyCtKB"
      },
      "source": [
        "def createList():\n",
        "  req_list = list()\n",
        "\n",
        "  for i in range(3):\n",
        "    if i == 0:\n",
        "      soc = float(input(\"Enter the minimum Social Support score you'd like your next travel destination to have: \"))\n",
        "      req_list.append(soc)\n",
        "    elif i == 1:\n",
        "      free = float(input(\"Enter the minimum Freedom score you'd like your next travel destination to have: \"))\n",
        "      req_list.append(free)\n",
        "    elif i == 2:\n",
        "      gdp = float(input(\"Enter the minimum GDP score you'd like your next travel destination to have: \"))\n",
        "      req_list.append(gdp)\n",
        "  return req_list"
      ],
      "execution_count": null,
      "outputs": []
    },
    {
      "cell_type": "code",
      "metadata": {
        "id": "ljBG3SX9SXL1",
        "colab": {
          "base_uri": "https://localhost:8080/",
          "height": 139
        },
        "outputId": "14427908-0518-4dba-d554-a7bacb50780f"
      },
      "source": [
        "countryRec(createList())"
      ],
      "execution_count": null,
      "outputs": [
        {
          "output_type": "stream",
          "text": [
            "Enter the minimum Social Support score you'd like your next travel destination to have: 1.44\n",
            "Enter the minimum Freedom score you'd like your next travel destination to have: 0.4\n",
            "Enter the minimum GDP score you'd like your next travel destination to have: 1.14\n",
            "You should visit Kazakhstan\n",
            "Social Support Score: 1.508\n",
            "Freedom Score: 0.41\n",
            "GDP Score: 1.173\n"
          ],
          "name": "stdout"
        }
      ]
    }
  ]
}